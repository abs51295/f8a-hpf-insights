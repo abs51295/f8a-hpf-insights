{
 "cells": [
  {
   "cell_type": "code",
   "execution_count": 1,
   "metadata": {},
   "outputs": [
    {
     "name": "stderr",
     "output_type": "stream",
     "text": [
      "/usr/lib64/python3.6/importlib/_bootstrap.py:219: RuntimeWarning: compiletime version 3.5 of module 'tensorflow.python.framework.fast_tensor_util' does not match runtime version 3.6\n",
      "  return f(*args, **kwds)\n"
     ]
    }
   ],
   "source": [
    "import numpy as np\n",
    "from scipy import sparse\n",
    "import json\n",
    "from edward.models import Poisson\n",
    "from edward.models import Gamma as IGR\n",
    "import tensorflow as tf\n",
    "import gc"
   ]
  },
  {
   "cell_type": "code",
   "execution_count": 2,
   "metadata": {},
   "outputs": [],
   "source": [
    "with open('package_id_dict.json', 'r') as f:\n",
    "    package_id_dict = json.load(f)"
   ]
  },
  {
   "cell_type": "code",
   "execution_count": 3,
   "metadata": {},
   "outputs": [],
   "source": [
    "id_package_dict = {x: n for n, x in package_id_dict.items()}"
   ]
  },
  {
   "cell_type": "code",
   "execution_count": 4,
   "metadata": {},
   "outputs": [],
   "source": [
    "with open('manifest_id_dict.json', 'r') as f:\n",
    "    manifest_id_dict = json.load(f)"
   ]
  },
  {
   "cell_type": "code",
   "execution_count": 5,
   "metadata": {},
   "outputs": [],
   "source": [
    "manifest_id_dict = {n: set(x) for n, x in manifest_id_dict.items()}"
   ]
  },
  {
   "cell_type": "code",
   "execution_count": 6,
   "metadata": {},
   "outputs": [],
   "source": [
    "sparse_matrix = sparse.load_npz('item_result_matrix.npz')\n",
    "beta = sparse_matrix.toarray()\n",
    "del(sparse_matrix)\n",
    "sparse_matrix = sparse.load_npz('user_result_matrix.npz')\n",
    "theta = sparse_matrix.toarray()\n",
    "del(sparse_matrix)\n",
    "manifests = theta.shape[0]\n",
    "packages = beta.shape[0]"
   ]
  },
  {
   "cell_type": "code",
   "execution_count": 7,
   "metadata": {},
   "outputs": [
    {
     "data": {
      "text/plain": [
       "9523"
      ]
     },
     "execution_count": 7,
     "metadata": {},
     "output_type": "execute_result"
    }
   ],
   "source": [
    "manifests"
   ]
  },
  {
   "cell_type": "code",
   "execution_count": 8,
   "metadata": {},
   "outputs": [
    {
     "data": {
      "text/plain": [
       "(12405, 13)"
      ]
     },
     "execution_count": 8,
     "metadata": {},
     "output_type": "execute_result"
    }
   ],
   "source": [
    "beta.shape"
   ]
  },
  {
   "cell_type": "code",
   "execution_count": 9,
   "metadata": {},
   "outputs": [
    {
     "data": {
      "text/plain": [
       "(9523, 13)"
      ]
     },
     "execution_count": 9,
     "metadata": {},
     "output_type": "execute_result"
    }
   ],
   "source": [
    "theta.shape"
   ]
  },
  {
   "cell_type": "code",
   "execution_count": 11,
   "metadata": {},
   "outputs": [],
   "source": [
    "# Known ID\n",
    "# input_list = [\"org.slf4j:slf4j-api\",\n",
    "#                       \"org.apache.commons:commons-lang3\",\n",
    "#                       \"com.fasterxml.jackson.core:jackson-annotations\",\n",
    "#                       \"com.fasterxml.jackson.core:jackson-core\",\n",
    "#                       \"org.apache.calcite.avatica:avatica-core\",\n",
    "#                       \"org.apache.calcite:calcite-linq4j\",\n",
    "#                       \"commons-dbcp:commons-dbcp\",\n",
    "#                       \"com.google.code.findbugs:jsr305\",\n",
    "#                       \"org.codehaus.janino:janino\",\n",
    "#                       \"com.fasterxml.jackson.core:jackson-databind\",\n",
    "#                       \"org.codehaus.janino:commons-compiler\",\n",
    "#                       \"com.esri.geometry:esri-geometry-api\",\n",
    "#                       \"com.google.guava:guava\",\n",
    "#                       \"net.hydromatic:aggdesigner-algorithm\"]"
   ]
  },
  {
   "cell_type": "code",
   "execution_count": 25,
   "metadata": {},
   "outputs": [],
   "source": [
    "# Unknown ID\n",
    "input_list = [\"io.vertx:vertx-core\", \"io.vertx:vertx-web\"]"
   ]
  },
  {
   "cell_type": "code",
   "execution_count": 26,
   "metadata": {},
   "outputs": [],
   "source": [
    "input_id_set = set()\n",
    "unknown_list = []\n",
    "for package_name in input_list:\n",
    "    p_id = package_id_dict.get(package_name, -1)\n",
    "    if p_id == -1:\n",
    "        unknown_list.append(package_name)\n",
    "    else:\n",
    "        input_id_set.add(p_id)"
   ]
  },
  {
   "cell_type": "code",
   "execution_count": 27,
   "metadata": {},
   "outputs": [
    {
     "data": {
      "text/plain": [
       "{7033, 7466}"
      ]
     },
     "execution_count": 27,
     "metadata": {},
     "output_type": "execute_result"
    }
   ],
   "source": [
    "input_id_set"
   ]
  },
  {
   "cell_type": "code",
   "execution_count": 28,
   "metadata": {},
   "outputs": [],
   "source": [
    "for n, x in manifest_id_dict.items():\n",
    "    if x == input_id_set:\n",
    "        break\n",
    "else:\n",
    "    n = -1"
   ]
  },
  {
   "cell_type": "code",
   "execution_count": 29,
   "metadata": {},
   "outputs": [],
   "source": [
    "sess = tf.InteractiveSession()\n",
    "init = tf.global_variables_initializer()\n",
    "init.run()"
   ]
  },
  {
   "cell_type": "code",
   "execution_count": 30,
   "metadata": {},
   "outputs": [
    {
     "data": {
      "text/plain": [
       "-1"
      ]
     },
     "execution_count": 30,
     "metadata": {},
     "output_type": "execute_result"
    }
   ],
   "source": [
    "n = int(n)\n",
    "n"
   ]
  },
  {
   "cell_type": "code",
   "execution_count": 31,
   "metadata": {},
   "outputs": [],
   "source": [
    "if n == -1:\n",
    "    theta_test = []\n",
    "    a = a_c = c = c_c = 0.5\n",
    "    b_c = d_c = 0.99\n",
    "    K = 13\n",
    "    epsilon = IGR(a_c, a_c/b_c).eval()\n",
    "    theta_func = IGR(a, epsilon).eval()\n",
    "    theta_test.append(epsilon*theta_func)\n",
    "    theta_test = np.array(theta_test*K, dtype=float)\n",
    "    result = Poisson(theta_test)\n",
    "    result = result.prob(beta).eval()\n",
    "else:\n",
    "    result = Poisson(theta[n])\n",
    "    result = result.prob(beta).eval()"
   ]
  },
  {
   "cell_type": "code",
   "execution_count": 32,
   "metadata": {},
   "outputs": [],
   "source": [
    "result4 = np.zeros([12405])\n",
    "for i in range(12405):\n",
    "    result4[i] = result[i].mean()"
   ]
  },
  {
   "cell_type": "code",
   "execution_count": 33,
   "metadata": {},
   "outputs": [],
   "source": [
    "highest_indices = result4.argsort()[-5:-1]\n",
    "companion_recommendation = []\n",
    "for package_id in highest_indices:\n",
    "    prob_score = result4[package_id]\n",
    "    package_name = id_package_dict[package_id]\n",
    "    recommendation = {\n",
    "        \"cooccurrence_probability\": prob_score * 100,\n",
    "        \"package_name\": package_name,\n",
    "        \"topic_list\": []\n",
    "    }\n",
    "    companion_recommendation.append(recommendation)"
   ]
  },
  {
   "cell_type": "code",
   "execution_count": 34,
   "metadata": {},
   "outputs": [
    {
     "data": {
      "text/plain": [
       "[{'cooccurrence_probability': 92.77060753421064,\n",
       "  'package_name': 'uk.co.bluegecko:core-server',\n",
       "  'topic_list': []},\n",
       " {'cooccurrence_probability': 92.77060753421064,\n",
       "  'package_name': 'com.smartitengineering.smart-exim:smart-exim-xml-impl',\n",
       "  'topic_list': []},\n",
       " {'cooccurrence_probability': 92.77060753421064,\n",
       "  'package_name': 'org.apache.kafka:kafka_2.11',\n",
       "  'topic_list': []},\n",
       " {'cooccurrence_probability': 92.77060753421064,\n",
       "  'package_name': 'org.xwiki.platform:xwiki-platform-store-filesystem-attachments',\n",
       "  'topic_list': []}]"
      ]
     },
     "execution_count": 34,
     "metadata": {},
     "output_type": "execute_result"
    }
   ],
   "source": [
    "companion_recommendation"
   ]
  },
  {
   "cell_type": "code",
   "execution_count": null,
   "metadata": {},
   "outputs": [],
   "source": []
  }
 ],
 "metadata": {
  "kernelspec": {
   "display_name": "Python 3",
   "language": "python",
   "name": "python3"
  },
  "language_info": {
   "codemirror_mode": {
    "name": "ipython",
    "version": 3
   },
   "file_extension": ".py",
   "mimetype": "text/x-python",
   "name": "python",
   "nbconvert_exporter": "python",
   "pygments_lexer": "ipython3",
   "version": "3.6.5"
  }
 },
 "nbformat": 4,
 "nbformat_minor": 2
}
