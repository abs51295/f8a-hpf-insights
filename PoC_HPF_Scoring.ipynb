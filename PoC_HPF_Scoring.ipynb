{
 "cells": [
  {
   "cell_type": "code",
   "execution_count": 274,
   "metadata": {},
   "outputs": [],
   "source": [
    "import numpy as np\n",
    "import json\n",
    "from edward.models import Poisson\n",
    "from edward.models import Gamma as IGR\n",
    "import tensorflow as tf\n",
    "import gc"
   ]
  },
  {
   "cell_type": "code",
   "execution_count": 275,
   "metadata": {},
   "outputs": [],
   "source": [
    "with open('package_id_dict.json', 'r') as f:\n",
    "    package_id_dict = json.load(f)"
   ]
  },
  {
   "cell_type": "code",
   "execution_count": 276,
   "metadata": {},
   "outputs": [],
   "source": [
    "id_package_dict = {x: n for n, x in package_id_dict.items()}"
   ]
  },
  {
   "cell_type": "code",
   "execution_count": 277,
   "metadata": {},
   "outputs": [],
   "source": [
    "with open('manifest_id_dict.json', 'r') as f:\n",
    "    manifest_id_dict = json.load(f)"
   ]
  },
  {
   "cell_type": "code",
   "execution_count": 278,
   "metadata": {},
   "outputs": [],
   "source": [
    "manifest_id_dict = {n: set(x) for n, x in manifest_id_dict.items()}"
   ]
  },
  {
   "cell_type": "code",
   "execution_count": 279,
   "metadata": {},
   "outputs": [],
   "source": [
    "input_list = ['io.vertx:vertx-core', 'io.vertx:vertx-web']"
   ]
  },
  {
   "cell_type": "code",
   "execution_count": 280,
   "metadata": {},
   "outputs": [],
   "source": [
    "input_id_set = set()\n",
    "unknown_list = []\n",
    "for package_name in input_list:\n",
    "    p_id = package_id_dict.get(package_name, -1)\n",
    "    if p_id == -1:\n",
    "        unknown_list.append(package_name)\n",
    "    else:\n",
    "        input_id_set.add(p_id)"
   ]
  },
  {
   "cell_type": "code",
   "execution_count": 281,
   "metadata": {},
   "outputs": [
    {
     "data": {
      "text/plain": [
       "{1729, 1861}"
      ]
     },
     "execution_count": 281,
     "metadata": {},
     "output_type": "execute_result"
    }
   ],
   "source": [
    "input_id_set"
   ]
  },
  {
   "cell_type": "code",
   "execution_count": 282,
   "metadata": {},
   "outputs": [],
   "source": [
    "for n, x in manifest_id_dict.items():\n",
    "    if x == input_id_set:\n",
    "        break\n",
    "else:\n",
    "    n = -1"
   ]
  },
  {
   "cell_type": "code",
   "execution_count": 283,
   "metadata": {},
   "outputs": [],
   "source": [
    "sess = tf.InteractiveSession()\n",
    "init = tf.global_variables_initializer()\n",
    "init.run()"
   ]
  },
  {
   "cell_type": "code",
   "execution_count": 284,
   "metadata": {},
   "outputs": [
    {
     "data": {
      "text/plain": [
       "571"
      ]
     },
     "execution_count": 284,
     "metadata": {},
     "output_type": "execute_result"
    }
   ],
   "source": [
    "n = int(n)\n",
    "n"
   ]
  },
  {
   "cell_type": "code",
   "execution_count": 285,
   "metadata": {},
   "outputs": [],
   "source": [
    "rating = np.load(\"rating_result_matrix.npy\")\n",
    "beta = np.load(\"item_result_matrix.npy\")"
   ]
  },
  {
   "cell_type": "code",
   "execution_count": 286,
   "metadata": {},
   "outputs": [],
   "source": [
    "theta = []\n",
    "if n == -1:\n",
    "    a = a_c = c = c_c = 0.5\n",
    "    b_c = d_c = 0.99\n",
    "    K = 10\n",
    "    epsilon = IGR(a_c, a_c/b_c).eval()\n",
    "    theta_func = IGR(a, epsilon).eval()\n",
    "    theta.append(epsilon*theta_func)\n",
    "    theta = np.array(theta*K)\n",
    "    result = Poisson(np.dot(theta, np.transpose(beta))).eval()\n",
    "    maxn = result.max()\n",
    "    min_max = maxn-rating.min()\n",
    "    for i in range(12537):\n",
    "        result[i] = (maxn-result[i])/min_max\n",
    "else:\n",
    "    result = rating[n]"
   ]
  },
  {
   "cell_type": "code",
   "execution_count": 287,
   "metadata": {},
   "outputs": [
    {
     "data": {
      "text/plain": [
       "0.12138094119577054"
      ]
     },
     "execution_count": 287,
     "metadata": {},
     "output_type": "execute_result"
    }
   ],
   "source": [
    "m = rating.mean()\n",
    "m"
   ]
  },
  {
   "cell_type": "code",
   "execution_count": 288,
   "metadata": {},
   "outputs": [
    {
     "data": {
      "text/plain": [
       "0.11944124423963132"
      ]
     },
     "execution_count": 288,
     "metadata": {},
     "output_type": "execute_result"
    }
   ],
   "source": [
    "result.mean()"
   ]
  },
  {
   "cell_type": "code",
   "execution_count": 289,
   "metadata": {},
   "outputs": [],
   "source": [
    "reco = list(result.nonzero()[0])"
   ]
  },
  {
   "cell_type": "code",
   "execution_count": 290,
   "metadata": {},
   "outputs": [],
   "source": [
    "from collections import defaultdict\n",
    "companion = {}\n",
    "# c_mean=0\n",
    "for p_id in reco:\n",
    "    prob_score = result[p_id]\n",
    "    if prob_score > result.mean():\n",
    "        package_name = id_package_dict[p_id]\n",
    "        companion[package_name] = prob_score\n",
    "        c_mean += prob_score"
   ]
  },
  {
   "cell_type": "code",
   "execution_count": 291,
   "metadata": {},
   "outputs": [
    {
     "data": {
      "text/plain": [
       "[('io.springfox:springfox-swagger-ui', 0.5268817204301075),\n",
       " ('org.springframework.boot:spring-boot-starter-redis', 0.5268817204301075),\n",
       " ('io.jsonwebtoken:jjwt', 0.5053763440860215),\n",
       " ('org.apache.tomcat.embed:tomcat-embed-jasper', 0.3763440860215054),\n",
       " ('javax.servlet:jstl', 0.3225806451612903),\n",
       " ('com.alibaba:druid', 0.3010752688172043),\n",
       " ('org.springframework.boot:spring-boot-starter-data-mongodb',\n",
       "  0.27956989247311825),\n",
       " ('com.shopizer:sm-search', 0.26881720430107525),\n",
       " ('org.springframework.cloud:spring-cloud-starter-eureka',\n",
       "  0.26881720430107525),\n",
       " ('org.springframework.cloud:spring-cloud-starter-feign', 0.26881720430107525)]"
      ]
     },
     "execution_count": 291,
     "metadata": {},
     "output_type": "execute_result"
    }
   ],
   "source": [
    "sorted(companion.items(), key=lambda x: x[1], reverse=True)[:10]"
   ]
  },
  {
   "cell_type": "code",
   "execution_count": null,
   "metadata": {},
   "outputs": [],
   "source": []
  }
 ],
 "metadata": {
  "kernelspec": {
   "display_name": "Python 3",
   "language": "python",
   "name": "python3"
  },
  "language_info": {
   "codemirror_mode": {
    "name": "ipython",
    "version": 3
   },
   "file_extension": ".py",
   "mimetype": "text/x-python",
   "name": "python",
   "nbconvert_exporter": "python",
   "pygments_lexer": "ipython3",
   "version": "3.6.5"
  }
 },
 "nbformat": 4,
 "nbformat_minor": 2
}
