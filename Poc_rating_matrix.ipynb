{
 "cells": [
  {
   "cell_type": "code",
   "execution_count": 1,
   "metadata": {},
   "outputs": [],
   "source": [
    "import pandas as pd\n",
    "import numpy as np\n",
    "import json\n",
    "from scipy import sparse"
   ]
  },
  {
   "cell_type": "code",
   "execution_count": 108,
   "metadata": {},
   "outputs": [],
   "source": [
    "# df = pd.read_json(\"node-package-details-clean.json\", lines=True)\n",
    "# all_manifest_list = df['dependencies']\n",
    "# del(df)"
   ]
  },
  {
   "cell_type": "code",
   "execution_count": 7,
   "metadata": {},
   "outputs": [],
   "source": [
    "with open(\"Downloads/manifest.json\", \"r\") as f:\n",
    "    all_manifest_list = json.load(f)\n",
    "all_manifest_list = all_manifest_list[0]['package_list']"
   ]
  },
  {
   "cell_type": "code",
   "execution_count": 8,
   "metadata": {},
   "outputs": [
    {
     "name": "stdout",
     "output_type": "stream",
     "text": [
      "Number of manifests collected = 1030\n"
     ]
    }
   ],
   "source": [
    "print(\"Number of manifests collected = {}\".format(len(all_manifest_list)))"
   ]
  },
  {
   "cell_type": "code",
   "execution_count": 9,
   "metadata": {},
   "outputs": [],
   "source": [
    "def cal_sparsity(array):\n",
    "    num_total = total_elems(array)\n",
    "    num_non_zero = zero_elems(array, num_total)\n",
    "    sparsity = num_non_zero/num_total\n",
    "    print(\"Sparsity of matrix is = {}\".format(sparsity))\n",
    "    return sparsity\n",
    "\n",
    "\n",
    "def zero_elems(array, num_total):\n",
    "    non_zero = np.count_nonzero(array)\n",
    "    return num_total-non_zero\n",
    "\n",
    "\n",
    "def total_elems(array):\n",
    "    shape = array.shape\n",
    "    return shape[0]*shape[1]"
   ]
  },
  {
   "cell_type": "code",
   "execution_count": 113,
   "metadata": {},
   "outputs": [],
   "source": [
    "# trimmed_manifest_list = [\n",
    "#     manifest for manifest in all_manifest_list if len(manifest) >60]"
   ]
  },
  {
   "cell_type": "code",
   "execution_count": 10,
   "metadata": {},
   "outputs": [],
   "source": [
    "trimmed_manifest_list = all_manifest_list"
   ]
  },
  {
   "cell_type": "code",
   "execution_count": 11,
   "metadata": {},
   "outputs": [
    {
     "name": "stdout",
     "output_type": "stream",
     "text": [
      "Number of trimmed manifest = 1030\n"
     ]
    }
   ],
   "source": [
    "print(\"Number of trimmed manifest = {}\". format(len(trimmed_manifest_list)))"
   ]
  },
  {
   "cell_type": "code",
   "execution_count": 12,
   "metadata": {},
   "outputs": [],
   "source": [
    "del(all_manifest_list)"
   ]
  },
  {
   "cell_type": "code",
   "execution_count": 13,
   "metadata": {},
   "outputs": [],
   "source": [
    "unique_packages = set()\n",
    "for manifest in trimmed_manifest_list:\n",
    "    for each_package in manifest:\n",
    "        unique_packages.add(each_package)"
   ]
  },
  {
   "cell_type": "code",
   "execution_count": 14,
   "metadata": {},
   "outputs": [
    {
     "name": "stdout",
     "output_type": "stream",
     "text": [
      "Number of unique packages = 2240\n"
     ]
    }
   ],
   "source": [
    "print(\"Number of unique packages = {}\".format(len(unique_packages)))"
   ]
  },
  {
   "cell_type": "code",
   "execution_count": 15,
   "metadata": {},
   "outputs": [],
   "source": [
    "package_id_dict = {}"
   ]
  },
  {
   "cell_type": "code",
   "execution_count": 16,
   "metadata": {},
   "outputs": [],
   "source": [
    "count = 0\n",
    "for package_name in unique_packages:\n",
    "    package_id_dict[package_name] = count\n",
    "    count += 1"
   ]
  },
  {
   "cell_type": "code",
   "execution_count": 17,
   "metadata": {},
   "outputs": [],
   "source": [
    "del(unique_packages)"
   ]
  },
  {
   "cell_type": "code",
   "execution_count": 18,
   "metadata": {},
   "outputs": [],
   "source": [
    "manifest_id_dict = {}"
   ]
  },
  {
   "cell_type": "code",
   "execution_count": 19,
   "metadata": {},
   "outputs": [],
   "source": [
    "count = 0\n",
    "for manifest in trimmed_manifest_list:\n",
    "    package_set = set()\n",
    "    for each_package in manifest:\n",
    "        package_set.add(package_id_dict[each_package])\n",
    "    manifest_id_dict[count] = list(package_set)\n",
    "    count += 1"
   ]
  },
  {
   "cell_type": "code",
   "execution_count": 20,
   "metadata": {},
   "outputs": [],
   "source": [
    "users = len(manifest_id_dict)"
   ]
  },
  {
   "cell_type": "code",
   "execution_count": 21,
   "metadata": {},
   "outputs": [],
   "source": [
    "items = len(package_id_dict)"
   ]
  },
  {
   "cell_type": "code",
   "execution_count": 22,
   "metadata": {},
   "outputs": [
    {
     "name": "stdout",
     "output_type": "stream",
     "text": [
      "Size of rating matrix = 1030*2240\n"
     ]
    }
   ],
   "source": [
    "print(\"Size of rating matrix = {}*{}\".format(users, items))"
   ]
  },
  {
   "cell_type": "code",
   "execution_count": 23,
   "metadata": {},
   "outputs": [],
   "source": [
    "del(trimmed_manifest_list)"
   ]
  },
  {
   "cell_type": "code",
   "execution_count": 24,
   "metadata": {},
   "outputs": [],
   "source": [
    "rating_matrix = np.zeros((users, items))"
   ]
  },
  {
   "cell_type": "code",
   "execution_count": 25,
   "metadata": {},
   "outputs": [],
   "source": [
    "for user, item_list in manifest_id_dict.items():\n",
    "    for each_item in item_list:\n",
    "        rating_matrix[user][each_item] = 1"
   ]
  },
  {
   "cell_type": "code",
   "execution_count": 26,
   "metadata": {},
   "outputs": [
    {
     "name": "stdout",
     "output_type": "stream",
     "text": [
      "Sparsity of matrix is = 0.9945548717059639\n"
     ]
    },
    {
     "data": {
      "text/plain": [
       "0.9945548717059639"
      ]
     },
     "execution_count": 26,
     "metadata": {},
     "output_type": "execute_result"
    }
   ],
   "source": [
    "cal_sparsity(rating_matrix)"
   ]
  },
  {
   "cell_type": "code",
   "execution_count": 27,
   "metadata": {},
   "outputs": [],
   "source": [
    "assert set(list(np.nonzero(rating_matrix[0])[0])) == set(manifest_id_dict[0])"
   ]
  },
  {
   "cell_type": "code",
   "execution_count": 51,
   "metadata": {},
   "outputs": [],
   "source": [
    "# sparse_rating_matrix=sparse.csr_matrix(rating_matrix)"
   ]
  },
  {
   "cell_type": "code",
   "execution_count": 52,
   "metadata": {},
   "outputs": [],
   "source": [
    "# del(rating_matrix)"
   ]
  },
  {
   "cell_type": "code",
   "execution_count": 28,
   "metadata": {},
   "outputs": [],
   "source": [
    "with open('package_id_dict.json', 'w') as f:\n",
    "    json.dump(package_id_dict, f)"
   ]
  },
  {
   "cell_type": "code",
   "execution_count": 29,
   "metadata": {},
   "outputs": [],
   "source": [
    "with open('manifest_id_dict.json', 'w') as f:\n",
    "    json.dump(manifest_id_dict, f)"
   ]
  },
  {
   "cell_type": "code",
   "execution_count": 30,
   "metadata": {},
   "outputs": [],
   "source": [
    "# with  open(\"rating_matrix.npy\",\"w\") as f:\n",
    "np.save(\"rating_matrix.npy\", rating_matrix)"
   ]
  },
  {
   "cell_type": "code",
   "execution_count": 56,
   "metadata": {},
   "outputs": [],
   "source": [
    "# with open('s', 'w') as f:\n",
    "# sparse.save_npz('sparse_rating_matrix.npz', sparse_rating_matrix)"
   ]
  },
  {
   "cell_type": "code",
   "execution_count": 57,
   "metadata": {},
   "outputs": [],
   "source": [
    "# Todo: Save and load sparse matrix and transform it to a dense one"
   ]
  },
  {
   "cell_type": "code",
   "execution_count": 58,
   "metadata": {},
   "outputs": [],
   "source": [
    "# del(sparse_rating_matrix)"
   ]
  },
  {
   "cell_type": "code",
   "execution_count": 31,
   "metadata": {},
   "outputs": [],
   "source": [
    "del(rating_matrix)"
   ]
  }
 ],
 "metadata": {
  "kernelspec": {
   "display_name": "Python 3",
   "language": "python",
   "name": "python3"
  },
  "language_info": {
   "codemirror_mode": {
    "name": "ipython",
    "version": 3
   },
   "file_extension": ".py",
   "mimetype": "text/x-python",
   "name": "python",
   "nbconvert_exporter": "python",
   "pygments_lexer": "ipython3",
   "version": "3.6.5"
  }
 },
 "nbformat": 4,
 "nbformat_minor": 2
}
